{
  "nbformat": 4,
  "nbformat_minor": 0,
  "metadata": {
    "colab": {
      "provenance": [],
      "gpuType": "T4"
    },
    "kernelspec": {
      "name": "python3",
      "display_name": "Python 3"
    },
    "language_info": {
      "name": "python"
    },
    "accelerator": "GPU"
  },
  "cells": [
    {
      "cell_type": "markdown",
      "source": [
        "**VGG NN**"
      ],
      "metadata": {
        "id": "-ZRDk9Dn-nh5"
      }
    },
    {
      "cell_type": "code",
      "execution_count": null,
      "metadata": {
        "id": "CohDzkfJ3QDv"
      },
      "outputs": [],
      "source": [
        "import torch\n",
        "import torch.nn as nn\n",
        "import torch.optim as optim\n",
        "from torchvision import datasets, transforms\n",
        "from torch.utils.data import DataLoader\n",
        "from torchvision import models"
      ]
    },
    {
      "cell_type": "code",
      "source": [
        "# Check if CUDA is available and set the device\n",
        "device = torch.device(\"cuda\" if torch.cuda.is_available() else \"cpu\")\n",
        "# CIFAR-10 dataset has 10 classes\n",
        "num_classes = 10"
      ],
      "metadata": {
        "id": "RkpGHthu3huI"
      },
      "execution_count": null,
      "outputs": []
    },
    {
      "cell_type": "code",
      "source": [
        "# Define the VGG block\n",
        "def vgg_block(num_convs, in_channels, out_channels):\n",
        "    layers = []\n",
        "    for _ in range(num_convs):\n",
        "        layers.append(nn.Conv2d(in_channels, out_channels, kernel_size=3, padding=1))\n",
        "        layers.append(nn.BatchNorm2d(out_channels))\n",
        "        layers.append(nn.ReLU(inplace=True))\n",
        "        in_channels = out_channels\n",
        "    layers.append(nn.MaxPool2d(kernel_size=2, stride=2))\n",
        "    return nn.Sequential(*layers)"
      ],
      "metadata": {
        "id": "ALEZYQsz3m5w"
      },
      "execution_count": null,
      "outputs": []
    },
    {
      "cell_type": "code",
      "source": [
        "# Define the VGG network\n",
        "class VGG(nn.Module):\n",
        "    def __init__(self, conv_arch, num_classes=10):\n",
        "        super(VGG, self).__init__()\n",
        "        self.conv_layers = self._make_layers(conv_arch)\n",
        "        self.fc_layers = nn.Sequential(\n",
        "            nn.Linear(conv_arch[-1][1] * 1 * 1, 4096),\n",
        "            nn.ReLU(True),\n",
        "            nn.Dropout(p=0.5),\n",
        "            nn.Linear(4096, 4096),\n",
        "            nn.ReLU(True),\n",
        "            nn.Dropout(p=0.5),\n",
        "            nn.Linear(4096, num_classes)\n",
        "        )\n",
        "    def _make_layers(self, conv_arch):\n",
        "        layers = []\n",
        "        in_channels = 3\n",
        "        for (num_convs, out_channels) in conv_arch:\n",
        "            layers.append(vgg_block(num_convs, in_channels, out_channels))\n",
        "            in_channels = out_channels\n",
        "        return nn.Sequential(*layers)\n",
        "    def forward(self, x):\n",
        "        x = self.conv_layers(x)\n",
        "        x = x.view(x.size(0), -1)  # Flatten the features\n",
        "        x = self.fc_layers(x)\n",
        "        return x"
      ],
      "metadata": {
        "id": "_D_lkVCK3puY"
      },
      "execution_count": null,
      "outputs": []
    },
    {
      "cell_type": "code",
      "source": [
        "# Define the VGG architecture\n",
        "conv_arch = ((2, 64), (2, 128), (3, 256), (3, 512), (3, 512))"
      ],
      "metadata": {
        "id": "OebJGQE_3whw"
      },
      "execution_count": null,
      "outputs": []
    },
    {
      "cell_type": "code",
      "source": [
        "model = VGG(conv_arch, num_classes=num_classes).to(device)\n"
      ],
      "metadata": {
        "id": "wyK_C-Re33_e"
      },
      "execution_count": null,
      "outputs": []
    },
    {
      "cell_type": "code",
      "source": [
        "# Hyperparameters\n",
        "learning_rate = 0.001\n",
        "batch_size = 64\n",
        "epochs = 10\n",
        "\n",
        "\n",
        "# Image preprocessing modules\n",
        "transform = transforms.Compose([\n",
        "    transforms.ToTensor(),\n",
        "    transforms.Normalize((0.5, 0.5, 0.5), (0.5, 0.5, 0.5))\n",
        "])\n"
      ],
      "metadata": {
        "id": "9QApeAal7u-X"
      },
      "execution_count": null,
      "outputs": []
    },
    {
      "cell_type": "code",
      "source": [
        "# CIFAR-10 data\n",
        "train_dataset = datasets.CIFAR10(root='./data', train=True, transform=transform, download=True)\n",
        "test_dataset = datasets.CIFAR10(root='./data', train=False, transform=transform)\n"
      ],
      "metadata": {
        "colab": {
          "base_uri": "https://localhost:8080/"
        },
        "id": "AinkjtaF7xGf",
        "outputId": "18792594-6efd-4ef0-9b8a-757492d5ccd5"
      },
      "execution_count": null,
      "outputs": [
        {
          "output_type": "stream",
          "name": "stdout",
          "text": [
            "Downloading https://www.cs.toronto.edu/~kriz/cifar-10-python.tar.gz to ./data/cifar-10-python.tar.gz\n"
          ]
        },
        {
          "output_type": "stream",
          "name": "stderr",
          "text": [
            "100%|██████████| 170498071/170498071 [00:01<00:00, 85908975.07it/s]\n"
          ]
        },
        {
          "output_type": "stream",
          "name": "stdout",
          "text": [
            "Extracting ./data/cifar-10-python.tar.gz to ./data\n"
          ]
        }
      ]
    },
    {
      "cell_type": "code",
      "source": [
        "# Data loader\n",
        "train_loader = DataLoader(dataset=train_dataset, batch_size=batch_size, shuffle=True)\n",
        "test_loader = DataLoader(dataset=test_dataset, batch_size=batch_size, shuffle=False)\n"
      ],
      "metadata": {
        "id": "ktzdFeoV71In"
      },
      "execution_count": null,
      "outputs": []
    },
    {
      "cell_type": "code",
      "source": [
        "# Loss and optimizer\n",
        "criterion = nn.CrossEntropyLoss()\n",
        "optimizer = optim.Adam(model.parameters(), lr=learning_rate)\n"
      ],
      "metadata": {
        "id": "BWl4dAf973L_"
      },
      "execution_count": null,
      "outputs": []
    },
    {
      "cell_type": "code",
      "source": [
        "# Function for training the model\n",
        "def train(model, criterion, optimizer, train_loader, epochs):\n",
        "    model.train()\n",
        "    for epoch in range(epochs):\n",
        "        for i, (images, labels) in enumerate(train_loader):\n",
        "            images = images.to(device)\n",
        "            labels = labels.to(device)\n",
        "\n",
        "            # Forward pass\n",
        "            outputs = model(images)\n",
        "            loss = criterion(outputs, labels)\n",
        "\n",
        "            # Backward and optimize\n",
        "            optimizer.zero_grad()\n",
        "            loss.backward()\n",
        "            optimizer.step()\n",
        "\n",
        "            if (i+1) % 100 == 0:\n",
        "                print(f'Epoch [{epoch+1}/{epochs}], Step [{i+1}/{len(train_loader)}], Loss: {loss.item():.4f}')\n",
        "\n",
        "\n",
        "# Function for testing the model\n",
        "def test(model, test_loader):\n",
        "    model.eval()\n",
        "    with torch.no_grad():\n",
        "        correct = 0\n",
        "        total = 0\n",
        "        for images, labels in test_loader:\n",
        "            images = images.to(device)\n",
        "            labels = labels.to(device)\n",
        "            outputs = model(images)\n",
        "            _, predicted = torch.max(outputs.data, 1)\n",
        "            total += labels.size(0)\n",
        "            correct += (predicted == labels).sum().item()\n",
        "        accuracy = 100 * correct / total\n",
        "        print(f'Accuracy of the model on the test images: {accuracy}%')\n",
        "\n",
        "\n",
        "# Train the model\n",
        "train(model, criterion, optimizer, train_loader, epochs)\n",
        "\n",
        "\n",
        "# Test the model\n",
        "test(model, test_loader)\n"
      ],
      "metadata": {
        "colab": {
          "base_uri": "https://localhost:8080/"
        },
        "id": "i1FmyekH767G",
        "outputId": "7fcb35c6-61bf-429b-c762-158ddd1f480b"
      },
      "execution_count": null,
      "outputs": [
        {
          "output_type": "stream",
          "name": "stdout",
          "text": [
            "Epoch [1/10], Step [100/782], Loss: 2.3235\n",
            "Epoch [1/10], Step [200/782], Loss: 2.0200\n",
            "Epoch [1/10], Step [300/782], Loss: 1.8915\n",
            "Epoch [1/10], Step [400/782], Loss: 1.8704\n",
            "Epoch [1/10], Step [500/782], Loss: 1.9583\n",
            "Epoch [1/10], Step [600/782], Loss: 1.8693\n",
            "Epoch [1/10], Step [700/782], Loss: 1.8328\n",
            "Epoch [2/10], Step [100/782], Loss: 1.7250\n",
            "Epoch [2/10], Step [200/782], Loss: 2.0903\n",
            "Epoch [2/10], Step [300/782], Loss: 1.9484\n",
            "Epoch [2/10], Step [400/782], Loss: 1.5514\n",
            "Epoch [2/10], Step [500/782], Loss: 1.5390\n",
            "Epoch [2/10], Step [600/782], Loss: 1.6595\n",
            "Epoch [2/10], Step [700/782], Loss: 1.3919\n",
            "Epoch [3/10], Step [100/782], Loss: 1.8727\n",
            "Epoch [3/10], Step [200/782], Loss: 1.5932\n",
            "Epoch [3/10], Step [300/782], Loss: 1.5194\n",
            "Epoch [3/10], Step [400/782], Loss: 1.4973\n",
            "Epoch [3/10], Step [500/782], Loss: 1.3845\n",
            "Epoch [3/10], Step [600/782], Loss: 1.4995\n",
            "Epoch [3/10], Step [700/782], Loss: 1.3093\n",
            "Epoch [4/10], Step [100/782], Loss: 1.2698\n",
            "Epoch [4/10], Step [200/782], Loss: 1.3011\n",
            "Epoch [4/10], Step [300/782], Loss: 1.4020\n",
            "Epoch [4/10], Step [400/782], Loss: 1.3883\n",
            "Epoch [4/10], Step [500/782], Loss: 1.1539\n",
            "Epoch [4/10], Step [600/782], Loss: 1.5485\n",
            "Epoch [4/10], Step [700/782], Loss: 1.1943\n",
            "Epoch [5/10], Step [100/782], Loss: 1.0407\n",
            "Epoch [5/10], Step [200/782], Loss: 0.9390\n",
            "Epoch [5/10], Step [300/782], Loss: 1.1746\n",
            "Epoch [5/10], Step [400/782], Loss: 1.0517\n",
            "Epoch [5/10], Step [500/782], Loss: 1.2675\n",
            "Epoch [5/10], Step [600/782], Loss: 1.0817\n",
            "Epoch [5/10], Step [700/782], Loss: 0.8998\n",
            "Epoch [6/10], Step [100/782], Loss: 0.9035\n",
            "Epoch [6/10], Step [200/782], Loss: 1.1986\n",
            "Epoch [6/10], Step [300/782], Loss: 0.8481\n",
            "Epoch [6/10], Step [400/782], Loss: 0.8303\n",
            "Epoch [6/10], Step [500/782], Loss: 0.8418\n",
            "Epoch [6/10], Step [600/782], Loss: 0.8107\n",
            "Epoch [6/10], Step [700/782], Loss: 0.7699\n",
            "Epoch [7/10], Step [100/782], Loss: 0.7992\n",
            "Epoch [7/10], Step [200/782], Loss: 0.5994\n",
            "Epoch [7/10], Step [300/782], Loss: 1.1344\n",
            "Epoch [7/10], Step [400/782], Loss: 0.7638\n",
            "Epoch [7/10], Step [500/782], Loss: 0.8441\n",
            "Epoch [7/10], Step [600/782], Loss: 0.9640\n",
            "Epoch [7/10], Step [700/782], Loss: 0.8468\n",
            "Epoch [8/10], Step [100/782], Loss: 0.5765\n",
            "Epoch [8/10], Step [200/782], Loss: 0.8027\n",
            "Epoch [8/10], Step [300/782], Loss: 0.5841\n",
            "Epoch [8/10], Step [400/782], Loss: 0.5460\n",
            "Epoch [8/10], Step [500/782], Loss: 0.6775\n",
            "Epoch [8/10], Step [600/782], Loss: 0.6849\n",
            "Epoch [8/10], Step [700/782], Loss: 0.5476\n",
            "Epoch [9/10], Step [100/782], Loss: 0.6370\n",
            "Epoch [9/10], Step [200/782], Loss: 0.4214\n",
            "Epoch [9/10], Step [300/782], Loss: 0.6939\n",
            "Epoch [9/10], Step [400/782], Loss: 0.5181\n",
            "Epoch [9/10], Step [500/782], Loss: 0.6378\n",
            "Epoch [9/10], Step [600/782], Loss: 0.4114\n",
            "Epoch [9/10], Step [700/782], Loss: 0.6095\n",
            "Epoch [10/10], Step [100/782], Loss: 0.3639\n",
            "Epoch [10/10], Step [200/782], Loss: 0.3730\n",
            "Epoch [10/10], Step [300/782], Loss: 0.4590\n",
            "Epoch [10/10], Step [400/782], Loss: 0.5854\n",
            "Epoch [10/10], Step [500/782], Loss: 0.8099\n",
            "Epoch [10/10], Step [600/782], Loss: 0.7696\n",
            "Epoch [10/10], Step [700/782], Loss: 0.4266\n",
            "Accuracy of the model on the test images: 80.49%\n"
          ]
        }
      ]
    },
    {
      "cell_type": "markdown",
      "source": [
        "**Googlenet**"
      ],
      "metadata": {
        "id": "1cYSOY3G-jmI"
      }
    },
    {
      "cell_type": "code",
      "source": [
        "import torch\n",
        "import torch.nn as nn\n",
        "import torch.nn.functional as F\n",
        "import torch.optim as optim\n",
        "from torchvision import datasets,transforms,models\n",
        "from torch.utils.data import DataLoader"
      ],
      "metadata": {
        "id": "V13T_gDB-jPg"
      },
      "execution_count": null,
      "outputs": []
    },
    {
      "cell_type": "code",
      "source": [
        "device=torch.device(\"cuda:0\"if torch.cuda.is_available() else \"cpu\")\n",
        "print(f\"Using device: {device}\")"
      ],
      "metadata": {
        "colab": {
          "base_uri": "https://localhost:8080/"
        },
        "id": "eD_xWORD_JCx",
        "outputId": "b49d73ff-c4c4-46a1-c1d2-b6bd54839359"
      },
      "execution_count": null,
      "outputs": [
        {
          "output_type": "stream",
          "name": "stdout",
          "text": [
            "Using device: cuda:0\n"
          ]
        }
      ]
    },
    {
      "cell_type": "code",
      "source": [
        "# CIFAR-10 has 10 classes\n",
        "num_classes = 10\n",
        "\n",
        "\n",
        "# Image Preprocessing\n",
        "transform = transforms.Compose([\n",
        "    transforms.ToTensor(),\n",
        "    transforms.Normalize((0.5, 0.5, 0.5), (0.5, 0.5, 0.5))  # Normalization\n",
        "])\n"
      ],
      "metadata": {
        "id": "kK2eocpi_iXZ"
      },
      "execution_count": null,
      "outputs": []
    },
    {
      "cell_type": "code",
      "source": [
        "# Download and load the CIFAR-10 data\n",
        "train_dataset = datasets.CIFAR10(root='./data', train=True, transform=transform, download=True)\n",
        "test_dataset = datasets.CIFAR10(root='./data', train=False, transform=transform)\n",
        "\n",
        "\n",
        "# Data Loader\n",
        "train_loader = DataLoader(dataset=train_dataset, batch_size=64, shuffle=True)\n",
        "test_loader = DataLoader(dataset=test_dataset, batch_size=64, shuffle=False)\n",
        "\n",
        "\n",
        "# Define a GoogLeNet model for CIFAR-10\n",
        "class GoogLeNetCIFAR10(models.GoogLeNet):\n",
        "    def __init__(self, num_classes=10):\n",
        "        super(GoogLeNetCIFAR10, self).__init__(num_classes=num_classes, aux_logits=False, init_weights=True)\n",
        "        # Redefine the first convolutional layer to accept CIFAR-10's 32x32 pixel images\n",
        "        self.conv1 = nn.Conv2d(3, 64, kernel_size=3, stride=1, padding=1)\n",
        "\n",
        "    def forward(self, x):\n",
        "        # Follow the forward pass of the GoogLeNet model\n",
        "        return super(GoogLeNetCIFAR10, self).forward(x)\n",
        "\n",
        "\n"
      ],
      "metadata": {
        "colab": {
          "base_uri": "https://localhost:8080/"
        },
        "id": "k1awxJlMAFmB",
        "outputId": "26af2031-2fe9-443d-b4b8-4e83b8a0210a"
      },
      "execution_count": null,
      "outputs": [
        {
          "output_type": "stream",
          "name": "stdout",
          "text": [
            "Files already downloaded and verified\n"
          ]
        }
      ]
    },
    {
      "cell_type": "code",
      "source": [
        "# Instantiate the model and transfer it to the GPU\n",
        "model = GoogLeNetCIFAR10(num_classes=num_classes).to(device)\n",
        "\n",
        "\n",
        "# Loss and Optimizer\n",
        "criterion = nn.CrossEntropyLoss()\n",
        "optimizer = optim.Adam(model.parameters(), lr=0.001)\n",
        "\n",
        "\n",
        "# Function to train the model\n",
        "def train(model, criterion, optimizer, train_loader, epochs=10):\n",
        "    model.train()\n",
        "    for epoch in range(epochs):\n",
        "        running_loss = 0.0\n",
        "        for i, (inputs, labels) in enumerate(train_loader, 0):\n",
        "            # Transfer inputs and labels to the GPU\n",
        "            inputs, labels = inputs.to(device), labels.to(device)\n",
        "\n",
        "            optimizer.zero_grad()\n",
        "            outputs = model(inputs)\n",
        "            loss = criterion(outputs, labels)\n",
        "            loss.backward()\n",
        "            optimizer.step()\n",
        "            running_loss += loss.item()\n",
        "            if i % 100 == 99:\n",
        "                print(f'Epoch {epoch + 1}, Batch {i + 1}, Loss: {running_loss / 100}')\n",
        "                running_loss = 0.0\n",
        "\n",
        "\n",
        "# Function to test the model\n",
        "def test(model, test_loader):\n",
        "    model.eval()\n",
        "    correct = 0\n",
        "    total = 0\n",
        "    with torch.no_grad():\n",
        "        for images, labels in test_loader:\n",
        "            # Transfer images and labels to the GPU\n",
        "            images, labels = images.to(device), labels.to(device)\n",
        "\n",
        "            outputs = model(images)\n",
        "            _, predicted = torch.max(outputs.data, 1)\n",
        "            total += labels.size(0)\n",
        "            correct += (predicted == labels).sum().item()\n",
        "    accuracy = 100 * correct / total\n",
        "    return accuracy\n",
        "\n",
        "\n",
        "# Start training\n",
        "train(model, criterion, optimizer, train_loader, epochs=10)\n",
        "\n",
        "\n",
        "# Test the model\n",
        "accuracy = test(model, test_loader)\n",
        "print(f'Accuracy of the model on the 10000 test images: {accuracy}%')\n"
      ],
      "metadata": {
        "colab": {
          "base_uri": "https://localhost:8080/"
        },
        "id": "l0ns16bmALP3",
        "outputId": "710dd3f6-62f7-4d18-9df5-dd2440089018"
      },
      "execution_count": null,
      "outputs": [
        {
          "output_type": "stream",
          "name": "stdout",
          "text": [
            "Epoch 1, Batch 100, Loss: 1.930627955198288\n",
            "Epoch 1, Batch 200, Loss: 1.676651691198349\n",
            "Epoch 1, Batch 300, Loss: 1.5533457851409913\n",
            "Epoch 1, Batch 400, Loss: 1.4630921161174775\n",
            "Epoch 1, Batch 500, Loss: 1.3711948657035828\n",
            "Epoch 1, Batch 600, Loss: 1.2865696090459824\n",
            "Epoch 1, Batch 700, Loss: 1.231417679786682\n",
            "Epoch 2, Batch 100, Loss: 1.101140775680542\n",
            "Epoch 2, Batch 200, Loss: 1.0728317183256149\n",
            "Epoch 2, Batch 300, Loss: 1.0463483840227128\n",
            "Epoch 2, Batch 400, Loss: 0.9674238514900207\n",
            "Epoch 2, Batch 500, Loss: 0.9371637552976608\n",
            "Epoch 2, Batch 600, Loss: 0.9267370021343231\n",
            "Epoch 2, Batch 700, Loss: 0.9096721619367599\n",
            "Epoch 3, Batch 100, Loss: 0.814417108297348\n",
            "Epoch 3, Batch 200, Loss: 0.7593256893754006\n",
            "Epoch 3, Batch 300, Loss: 0.7928840535879135\n",
            "Epoch 3, Batch 400, Loss: 0.7547766011953354\n",
            "Epoch 3, Batch 500, Loss: 0.7206918570399284\n",
            "Epoch 3, Batch 600, Loss: 0.7270461264252662\n",
            "Epoch 3, Batch 700, Loss: 0.7006382346153259\n",
            "Epoch 4, Batch 100, Loss: 0.6084755820035934\n",
            "Epoch 4, Batch 200, Loss: 0.6272489914298057\n",
            "Epoch 4, Batch 300, Loss: 0.6144788432121276\n",
            "Epoch 4, Batch 400, Loss: 0.6151885306835174\n",
            "Epoch 4, Batch 500, Loss: 0.5841396175324917\n",
            "Epoch 4, Batch 600, Loss: 0.593100825548172\n",
            "Epoch 4, Batch 700, Loss: 0.5892672389745712\n",
            "Epoch 5, Batch 100, Loss: 0.49614900052547456\n",
            "Epoch 5, Batch 200, Loss: 0.5136055940389633\n",
            "Epoch 5, Batch 300, Loss: 0.5178992900252343\n",
            "Epoch 5, Batch 400, Loss: 0.4888785284757614\n",
            "Epoch 5, Batch 500, Loss: 0.5255453255772591\n",
            "Epoch 5, Batch 600, Loss: 0.4888523219525814\n",
            "Epoch 5, Batch 700, Loss: 0.4953828927874565\n",
            "Epoch 6, Batch 100, Loss: 0.4202398206293583\n",
            "Epoch 6, Batch 200, Loss: 0.4176362803578377\n",
            "Epoch 6, Batch 300, Loss: 0.404645100235939\n",
            "Epoch 6, Batch 400, Loss: 0.43979737535119057\n",
            "Epoch 6, Batch 500, Loss: 0.42196151688694955\n",
            "Epoch 6, Batch 600, Loss: 0.4388211160898209\n",
            "Epoch 6, Batch 700, Loss: 0.45874052599072457\n",
            "Epoch 7, Batch 100, Loss: 0.33896355018019675\n",
            "Epoch 7, Batch 200, Loss: 0.3491541041433811\n",
            "Epoch 7, Batch 300, Loss: 0.35437122121453285\n",
            "Epoch 7, Batch 400, Loss: 0.35664805755019185\n",
            "Epoch 7, Batch 500, Loss: 0.3696115054190159\n",
            "Epoch 7, Batch 600, Loss: 0.3853863444924355\n",
            "Epoch 7, Batch 700, Loss: 0.3685365701466799\n",
            "Epoch 8, Batch 100, Loss: 0.26897580236196517\n",
            "Epoch 8, Batch 200, Loss: 0.28339158579707147\n",
            "Epoch 8, Batch 300, Loss: 0.27762962505221367\n",
            "Epoch 8, Batch 400, Loss: 0.32706974595785143\n",
            "Epoch 8, Batch 500, Loss: 0.31847319930791856\n",
            "Epoch 8, Batch 600, Loss: 0.3259934452921152\n",
            "Epoch 8, Batch 700, Loss: 0.33440553918480875\n",
            "Epoch 9, Batch 100, Loss: 0.21599523715674876\n",
            "Epoch 9, Batch 200, Loss: 0.24330955557525158\n",
            "Epoch 9, Batch 300, Loss: 0.23943948723375796\n",
            "Epoch 9, Batch 400, Loss: 0.2610665649920702\n",
            "Epoch 9, Batch 500, Loss: 0.2786939536780119\n",
            "Epoch 9, Batch 600, Loss: 0.26967359878122804\n",
            "Epoch 9, Batch 700, Loss: 0.28339151583611966\n",
            "Epoch 10, Batch 100, Loss: 0.17693851105868816\n",
            "Epoch 10, Batch 200, Loss: 0.20311441957950593\n",
            "Epoch 10, Batch 300, Loss: 0.21740698136389255\n",
            "Epoch 10, Batch 400, Loss: 0.21533710736781358\n",
            "Epoch 10, Batch 500, Loss: 0.2215679020807147\n",
            "Epoch 10, Batch 600, Loss: 0.24111851923167704\n",
            "Epoch 10, Batch 700, Loss: 0.23501623228192328\n",
            "Accuracy of the model on the 10000 test images: 82.83%\n"
          ]
        }
      ]
    }
  ]
}