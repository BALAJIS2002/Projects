{
  "nbformat": 4,
  "nbformat_minor": 0,
  "metadata": {
    "colab": {
      "provenance": [],
      "gpuType": "T4"
    },
    "kernelspec": {
      "name": "python3",
      "display_name": "Python 3"
    },
    "language_info": {
      "name": "python"
    },
    "accelerator": "GPU"
  },
  "cells": [
    {
      "cell_type": "code",
      "execution_count": null,
      "metadata": {
        "id": "U-0W3SJ27zYz"
      },
      "outputs": [],
      "source": [
        "import pandas as pd\n",
        "import os\n",
        "import numpy as np\n",
        "\n",
        "import tensorflow as tf\n",
        "from tensorflow.keras.preprocessing.sequence import pad_sequences\n",
        "from tensorflow.keras.layers import Embedding, LSTM, Dense, Bidirectional\n",
        "from tensorflow.keras.preprocessing.text import Tokenizer\n",
        "from tensorflow.keras.models import Sequential\n",
        "from tensorflow.keras.optimizers import Adam"
      ]
    },
    {
      "cell_type": "code",
      "source": [
        "medium_data = pd.read_csv('/content/sample_data/medium_data.csv')\n",
        "medium_data.head()"
      ],
      "metadata": {
        "colab": {
          "base_uri": "https://localhost:8080/",
          "height": 293
        },
        "id": "OL9KDjOI-Bvx",
        "outputId": "22881b4c-82d8-4b27-f372-f1697f5d6514"
      },
      "execution_count": null,
      "outputs": [
        {
          "output_type": "execute_result",
          "data": {
            "text/plain": [
              "   id                                                url  \\\n",
              "0   1  https://towardsdatascience.com/not-all-rainbow...   \n",
              "1   2  https://towardsdatascience.com/ethics-in-ai-po...   \n",
              "2   3  https://towardsdatascience.com/python-tuple-th...   \n",
              "3   4  https://towardsdatascience.com/dates-and-subqu...   \n",
              "4   5  https://towardsdatascience.com/temporal-differ...   \n",
              "\n",
              "                                               title  \\\n",
              "0  Not All Rainbows and Sunshine: The Darker Side...   \n",
              "1  Ethics in AI: Potential Root Causes for Biased...   \n",
              "2  Python Tuple, The Whole Truth and Only the Tru...   \n",
              "3                        Dates and Subqueries in SQL   \n",
              "4  Temporal Differences with Python: First Sample...   \n",
              "\n",
              "                                            subtitle  claps  responses  \\\n",
              "0              Part 1: The Risks and Ethical Issues…  453.0         11   \n",
              "1  An alternative approach to understanding bias ...  311.0          3   \n",
              "2                                                NaN  188.0          0   \n",
              "3                          Working with dates in SQL   15.0          1   \n",
              "4                                                NaN   10.0          0   \n",
              "\n",
              "   reading_time           publication        date  \n",
              "0             9  Towards Data Science  27-01-2023  \n",
              "1            12  Towards Data Science  27-01-2023  \n",
              "2            24  Towards Data Science  27-01-2023  \n",
              "3             4  Towards Data Science  27-01-2023  \n",
              "4            13  Towards Data Science  27-01-2023  "
            ],
            "text/html": [
              "\n",
              "  <div id=\"df-d90908ca-bbb3-4ee1-a41d-26034d7d21f1\" class=\"colab-df-container\">\n",
              "    <div>\n",
              "<style scoped>\n",
              "    .dataframe tbody tr th:only-of-type {\n",
              "        vertical-align: middle;\n",
              "    }\n",
              "\n",
              "    .dataframe tbody tr th {\n",
              "        vertical-align: top;\n",
              "    }\n",
              "\n",
              "    .dataframe thead th {\n",
              "        text-align: right;\n",
              "    }\n",
              "</style>\n",
              "<table border=\"1\" class=\"dataframe\">\n",
              "  <thead>\n",
              "    <tr style=\"text-align: right;\">\n",
              "      <th></th>\n",
              "      <th>id</th>\n",
              "      <th>url</th>\n",
              "      <th>title</th>\n",
              "      <th>subtitle</th>\n",
              "      <th>claps</th>\n",
              "      <th>responses</th>\n",
              "      <th>reading_time</th>\n",
              "      <th>publication</th>\n",
              "      <th>date</th>\n",
              "    </tr>\n",
              "  </thead>\n",
              "  <tbody>\n",
              "    <tr>\n",
              "      <th>0</th>\n",
              "      <td>1</td>\n",
              "      <td>https://towardsdatascience.com/not-all-rainbow...</td>\n",
              "      <td>Not All Rainbows and Sunshine: The Darker Side...</td>\n",
              "      <td>Part 1: The Risks and Ethical Issues…</td>\n",
              "      <td>453.0</td>\n",
              "      <td>11</td>\n",
              "      <td>9</td>\n",
              "      <td>Towards Data Science</td>\n",
              "      <td>27-01-2023</td>\n",
              "    </tr>\n",
              "    <tr>\n",
              "      <th>1</th>\n",
              "      <td>2</td>\n",
              "      <td>https://towardsdatascience.com/ethics-in-ai-po...</td>\n",
              "      <td>Ethics in AI: Potential Root Causes for Biased...</td>\n",
              "      <td>An alternative approach to understanding bias ...</td>\n",
              "      <td>311.0</td>\n",
              "      <td>3</td>\n",
              "      <td>12</td>\n",
              "      <td>Towards Data Science</td>\n",
              "      <td>27-01-2023</td>\n",
              "    </tr>\n",
              "    <tr>\n",
              "      <th>2</th>\n",
              "      <td>3</td>\n",
              "      <td>https://towardsdatascience.com/python-tuple-th...</td>\n",
              "      <td>Python Tuple, The Whole Truth and Only the Tru...</td>\n",
              "      <td>NaN</td>\n",
              "      <td>188.0</td>\n",
              "      <td>0</td>\n",
              "      <td>24</td>\n",
              "      <td>Towards Data Science</td>\n",
              "      <td>27-01-2023</td>\n",
              "    </tr>\n",
              "    <tr>\n",
              "      <th>3</th>\n",
              "      <td>4</td>\n",
              "      <td>https://towardsdatascience.com/dates-and-subqu...</td>\n",
              "      <td>Dates and Subqueries in SQL</td>\n",
              "      <td>Working with dates in SQL</td>\n",
              "      <td>15.0</td>\n",
              "      <td>1</td>\n",
              "      <td>4</td>\n",
              "      <td>Towards Data Science</td>\n",
              "      <td>27-01-2023</td>\n",
              "    </tr>\n",
              "    <tr>\n",
              "      <th>4</th>\n",
              "      <td>5</td>\n",
              "      <td>https://towardsdatascience.com/temporal-differ...</td>\n",
              "      <td>Temporal Differences with Python: First Sample...</td>\n",
              "      <td>NaN</td>\n",
              "      <td>10.0</td>\n",
              "      <td>0</td>\n",
              "      <td>13</td>\n",
              "      <td>Towards Data Science</td>\n",
              "      <td>27-01-2023</td>\n",
              "    </tr>\n",
              "  </tbody>\n",
              "</table>\n",
              "</div>\n",
              "    <div class=\"colab-df-buttons\">\n",
              "\n",
              "  <div class=\"colab-df-container\">\n",
              "    <button class=\"colab-df-convert\" onclick=\"convertToInteractive('df-d90908ca-bbb3-4ee1-a41d-26034d7d21f1')\"\n",
              "            title=\"Convert this dataframe to an interactive table.\"\n",
              "            style=\"display:none;\">\n",
              "\n",
              "  <svg xmlns=\"http://www.w3.org/2000/svg\" height=\"24px\" viewBox=\"0 -960 960 960\">\n",
              "    <path d=\"M120-120v-720h720v720H120Zm60-500h600v-160H180v160Zm220 220h160v-160H400v160Zm0 220h160v-160H400v160ZM180-400h160v-160H180v160Zm440 0h160v-160H620v160ZM180-180h160v-160H180v160Zm440 0h160v-160H620v160Z\"/>\n",
              "  </svg>\n",
              "    </button>\n",
              "\n",
              "  <style>\n",
              "    .colab-df-container {\n",
              "      display:flex;\n",
              "      gap: 12px;\n",
              "    }\n",
              "\n",
              "    .colab-df-convert {\n",
              "      background-color: #E8F0FE;\n",
              "      border: none;\n",
              "      border-radius: 50%;\n",
              "      cursor: pointer;\n",
              "      display: none;\n",
              "      fill: #1967D2;\n",
              "      height: 32px;\n",
              "      padding: 0 0 0 0;\n",
              "      width: 32px;\n",
              "    }\n",
              "\n",
              "    .colab-df-convert:hover {\n",
              "      background-color: #E2EBFA;\n",
              "      box-shadow: 0px 1px 2px rgba(60, 64, 67, 0.3), 0px 1px 3px 1px rgba(60, 64, 67, 0.15);\n",
              "      fill: #174EA6;\n",
              "    }\n",
              "\n",
              "    .colab-df-buttons div {\n",
              "      margin-bottom: 4px;\n",
              "    }\n",
              "\n",
              "    [theme=dark] .colab-df-convert {\n",
              "      background-color: #3B4455;\n",
              "      fill: #D2E3FC;\n",
              "    }\n",
              "\n",
              "    [theme=dark] .colab-df-convert:hover {\n",
              "      background-color: #434B5C;\n",
              "      box-shadow: 0px 1px 3px 1px rgba(0, 0, 0, 0.15);\n",
              "      filter: drop-shadow(0px 1px 2px rgba(0, 0, 0, 0.3));\n",
              "      fill: #FFFFFF;\n",
              "    }\n",
              "  </style>\n",
              "\n",
              "    <script>\n",
              "      const buttonEl =\n",
              "        document.querySelector('#df-d90908ca-bbb3-4ee1-a41d-26034d7d21f1 button.colab-df-convert');\n",
              "      buttonEl.style.display =\n",
              "        google.colab.kernel.accessAllowed ? 'block' : 'none';\n",
              "\n",
              "      async function convertToInteractive(key) {\n",
              "        const element = document.querySelector('#df-d90908ca-bbb3-4ee1-a41d-26034d7d21f1');\n",
              "        const dataTable =\n",
              "          await google.colab.kernel.invokeFunction('convertToInteractive',\n",
              "                                                    [key], {});\n",
              "        if (!dataTable) return;\n",
              "\n",
              "        const docLinkHtml = 'Like what you see? Visit the ' +\n",
              "          '<a target=\"_blank\" href=https://colab.research.google.com/notebooks/data_table.ipynb>data table notebook</a>'\n",
              "          + ' to learn more about interactive tables.';\n",
              "        element.innerHTML = '';\n",
              "        dataTable['output_type'] = 'display_data';\n",
              "        await google.colab.output.renderOutput(dataTable, element);\n",
              "        const docLink = document.createElement('div');\n",
              "        docLink.innerHTML = docLinkHtml;\n",
              "        element.appendChild(docLink);\n",
              "      }\n",
              "    </script>\n",
              "  </div>\n",
              "\n",
              "\n",
              "<div id=\"df-1da23147-e843-4c24-b86b-9dab8094c1c5\">\n",
              "  <button class=\"colab-df-quickchart\" onclick=\"quickchart('df-1da23147-e843-4c24-b86b-9dab8094c1c5')\"\n",
              "            title=\"Suggest charts\"\n",
              "            style=\"display:none;\">\n",
              "\n",
              "<svg xmlns=\"http://www.w3.org/2000/svg\" height=\"24px\"viewBox=\"0 0 24 24\"\n",
              "     width=\"24px\">\n",
              "    <g>\n",
              "        <path d=\"M19 3H5c-1.1 0-2 .9-2 2v14c0 1.1.9 2 2 2h14c1.1 0 2-.9 2-2V5c0-1.1-.9-2-2-2zM9 17H7v-7h2v7zm4 0h-2V7h2v10zm4 0h-2v-4h2v4z\"/>\n",
              "    </g>\n",
              "</svg>\n",
              "  </button>\n",
              "\n",
              "<style>\n",
              "  .colab-df-quickchart {\n",
              "      --bg-color: #E8F0FE;\n",
              "      --fill-color: #1967D2;\n",
              "      --hover-bg-color: #E2EBFA;\n",
              "      --hover-fill-color: #174EA6;\n",
              "      --disabled-fill-color: #AAA;\n",
              "      --disabled-bg-color: #DDD;\n",
              "  }\n",
              "\n",
              "  [theme=dark] .colab-df-quickchart {\n",
              "      --bg-color: #3B4455;\n",
              "      --fill-color: #D2E3FC;\n",
              "      --hover-bg-color: #434B5C;\n",
              "      --hover-fill-color: #FFFFFF;\n",
              "      --disabled-bg-color: #3B4455;\n",
              "      --disabled-fill-color: #666;\n",
              "  }\n",
              "\n",
              "  .colab-df-quickchart {\n",
              "    background-color: var(--bg-color);\n",
              "    border: none;\n",
              "    border-radius: 50%;\n",
              "    cursor: pointer;\n",
              "    display: none;\n",
              "    fill: var(--fill-color);\n",
              "    height: 32px;\n",
              "    padding: 0;\n",
              "    width: 32px;\n",
              "  }\n",
              "\n",
              "  .colab-df-quickchart:hover {\n",
              "    background-color: var(--hover-bg-color);\n",
              "    box-shadow: 0 1px 2px rgba(60, 64, 67, 0.3), 0 1px 3px 1px rgba(60, 64, 67, 0.15);\n",
              "    fill: var(--button-hover-fill-color);\n",
              "  }\n",
              "\n",
              "  .colab-df-quickchart-complete:disabled,\n",
              "  .colab-df-quickchart-complete:disabled:hover {\n",
              "    background-color: var(--disabled-bg-color);\n",
              "    fill: var(--disabled-fill-color);\n",
              "    box-shadow: none;\n",
              "  }\n",
              "\n",
              "  .colab-df-spinner {\n",
              "    border: 2px solid var(--fill-color);\n",
              "    border-color: transparent;\n",
              "    border-bottom-color: var(--fill-color);\n",
              "    animation:\n",
              "      spin 1s steps(1) infinite;\n",
              "  }\n",
              "\n",
              "  @keyframes spin {\n",
              "    0% {\n",
              "      border-color: transparent;\n",
              "      border-bottom-color: var(--fill-color);\n",
              "      border-left-color: var(--fill-color);\n",
              "    }\n",
              "    20% {\n",
              "      border-color: transparent;\n",
              "      border-left-color: var(--fill-color);\n",
              "      border-top-color: var(--fill-color);\n",
              "    }\n",
              "    30% {\n",
              "      border-color: transparent;\n",
              "      border-left-color: var(--fill-color);\n",
              "      border-top-color: var(--fill-color);\n",
              "      border-right-color: var(--fill-color);\n",
              "    }\n",
              "    40% {\n",
              "      border-color: transparent;\n",
              "      border-right-color: var(--fill-color);\n",
              "      border-top-color: var(--fill-color);\n",
              "    }\n",
              "    60% {\n",
              "      border-color: transparent;\n",
              "      border-right-color: var(--fill-color);\n",
              "    }\n",
              "    80% {\n",
              "      border-color: transparent;\n",
              "      border-right-color: var(--fill-color);\n",
              "      border-bottom-color: var(--fill-color);\n",
              "    }\n",
              "    90% {\n",
              "      border-color: transparent;\n",
              "      border-bottom-color: var(--fill-color);\n",
              "    }\n",
              "  }\n",
              "</style>\n",
              "\n",
              "  <script>\n",
              "    async function quickchart(key) {\n",
              "      const quickchartButtonEl =\n",
              "        document.querySelector('#' + key + ' button');\n",
              "      quickchartButtonEl.disabled = true;  // To prevent multiple clicks.\n",
              "      quickchartButtonEl.classList.add('colab-df-spinner');\n",
              "      try {\n",
              "        const charts = await google.colab.kernel.invokeFunction(\n",
              "            'suggestCharts', [key], {});\n",
              "      } catch (error) {\n",
              "        console.error('Error during call to suggestCharts:', error);\n",
              "      }\n",
              "      quickchartButtonEl.classList.remove('colab-df-spinner');\n",
              "      quickchartButtonEl.classList.add('colab-df-quickchart-complete');\n",
              "    }\n",
              "    (() => {\n",
              "      let quickchartButtonEl =\n",
              "        document.querySelector('#df-1da23147-e843-4c24-b86b-9dab8094c1c5 button');\n",
              "      quickchartButtonEl.style.display =\n",
              "        google.colab.kernel.accessAllowed ? 'block' : 'none';\n",
              "    })();\n",
              "  </script>\n",
              "</div>\n",
              "\n",
              "    </div>\n",
              "  </div>\n"
            ],
            "application/vnd.google.colaboratory.intrinsic+json": {
              "type": "dataframe",
              "variable_name": "medium_data",
              "summary": "{\n  \"name\": \"medium_data\",\n  \"rows\": 2498,\n  \"fields\": [\n    {\n      \"column\": \"id\",\n      \"properties\": {\n        \"dtype\": \"number\",\n        \"std\": 721,\n        \"min\": 1,\n        \"max\": 2498,\n        \"num_unique_values\": 2498,\n        \"samples\": [\n          2294,\n          1865,\n          903\n        ],\n        \"semantic_type\": \"\",\n        \"description\": \"\"\n      }\n    },\n    {\n      \"column\": \"url\",\n      \"properties\": {\n        \"dtype\": \"string\",\n        \"num_unique_values\": 1849,\n        \"samples\": [\n          \"https://towardsdatascience.com/create-mysql-and-postgres-instances-using-aws-cloudformation-d3af3c46c22a\",\n          \"https://towardsdatascience.com/a-quick-guide-to-beautiful-scatter-plots-in-python-75625ae67396\",\n          \"https://towardsdatascience.com/best-practices-for-python-development-bf74c2880f87\"\n        ],\n        \"semantic_type\": \"\",\n        \"description\": \"\"\n      }\n    },\n    {\n      \"column\": \"title\",\n      \"properties\": {\n        \"dtype\": \"string\",\n        \"num_unique_values\": 1848,\n        \"samples\": [\n          \"Stop Dreaming. Here\\u2019s How You Can Quit Your 9\\u20135 Job and Become A Digital Nomad in\\u00a02023\",\n          \"How to Perform Image Segmentation with Thresholding Using\\u00a0OpenCV\",\n          \"Google Med-PaLM: The AI Clinician\"\n        ],\n        \"semantic_type\": \"\",\n        \"description\": \"\"\n      }\n    },\n    {\n      \"column\": \"subtitle\",\n      \"properties\": {\n        \"dtype\": \"string\",\n        \"num_unique_values\": 1518,\n        \"samples\": [\n          \"A book review and summary of Designing Machine\\u2026\",\n          \"Featuring 4 new emerging trends and 6 big trends from\\u00a0last\\u2026\",\n          \"Simple but feature-rich system for notes,\\u00a0tasks\\u2026\"\n        ],\n        \"semantic_type\": \"\",\n        \"description\": \"\"\n      }\n    },\n    {\n      \"column\": \"claps\",\n      \"properties\": {\n        \"dtype\": \"number\",\n        \"std\": 678.8869879134083,\n        \"min\": 0.0,\n        \"max\": 11100.0,\n        \"num_unique_values\": 614,\n        \"samples\": [\n          460.0,\n          366.0,\n          978.0\n        ],\n        \"semantic_type\": \"\",\n        \"description\": \"\"\n      }\n    },\n    {\n      \"column\": \"responses\",\n      \"properties\": {\n        \"dtype\": \"number\",\n        \"std\": 12,\n        \"min\": 0,\n        \"max\": 207,\n        \"num_unique_values\": 67,\n        \"samples\": [\n          80,\n          65,\n          2\n        ],\n        \"semantic_type\": \"\",\n        \"description\": \"\"\n      }\n    },\n    {\n      \"column\": \"reading_time\",\n      \"properties\": {\n        \"dtype\": \"number\",\n        \"std\": 3,\n        \"min\": 1,\n        \"max\": 43,\n        \"num_unique_values\": 30,\n        \"samples\": [\n          31,\n          10,\n          25\n        ],\n        \"semantic_type\": \"\",\n        \"description\": \"\"\n      }\n    },\n    {\n      \"column\": \"publication\",\n      \"properties\": {\n        \"dtype\": \"category\",\n        \"num_unique_values\": 4,\n        \"samples\": [\n          \"UX Collective\",\n          \"The Writing Cooperative\",\n          \"Towards Data Science\"\n        ],\n        \"semantic_type\": \"\",\n        \"description\": \"\"\n      }\n    },\n    {\n      \"column\": \"date\",\n      \"properties\": {\n        \"dtype\": \"object\",\n        \"num_unique_values\": 70,\n        \"samples\": [\n          \"17-01-2023\",\n          \"27-01-2023\",\n          \"03-02-2023\"\n        ],\n        \"semantic_type\": \"\",\n        \"description\": \"\"\n      }\n    }\n  ]\n}"
            }
          },
          "metadata": {},
          "execution_count": 25
        }
      ]
    },
    {
      "cell_type": "code",
      "source": [
        "print(\"Number of records: \", medium_data.shape[0])\n",
        "print(\"Number of fields: \", medium_data.shape[1])"
      ],
      "metadata": {
        "colab": {
          "base_uri": "https://localhost:8080/"
        },
        "id": "nHKcPyxG-NI6",
        "outputId": "c9229dc2-6a95-43d5-b894-c31be0e9773b"
      },
      "execution_count": null,
      "outputs": [
        {
          "output_type": "stream",
          "name": "stdout",
          "text": [
            "Number of records:  2498\n",
            "Number of fields:  9\n"
          ]
        }
      ]
    },
    {
      "cell_type": "code",
      "source": [
        "medium_data['title']"
      ],
      "metadata": {
        "colab": {
          "base_uri": "https://localhost:8080/"
        },
        "id": "fHq2agSs-Byo",
        "outputId": "65169b48-73e6-486b-95f0-20a82271ce18"
      },
      "execution_count": null,
      "outputs": [
        {
          "output_type": "execute_result",
          "data": {
            "text/plain": [
              "0       Not All Rainbows and Sunshine: The Darker Side...\n",
              "1       Ethics in AI: Potential Root Causes for Biased...\n",
              "2       Python Tuple, The Whole Truth and Only the Tru...\n",
              "3                             Dates and Subqueries in SQL\n",
              "4       Temporal Differences with Python: First Sample...\n",
              "                              ...                        \n",
              "2493    Brian Chesky is an Example of What it Means to...\n",
              "2494                 5 Red Flags of Online Business Gurus\n",
              "2495    Recognizing These Three Realities Can Help Set...\n",
              "2496    “I Remember It Like It Was Just Yesterday…” Re...\n",
              "2497            How to Formulate a Great Nonfiction Theme\n",
              "Name: title, Length: 2498, dtype: object"
            ]
          },
          "metadata": {},
          "execution_count": 27
        }
      ]
    },
    {
      "cell_type": "code",
      "source": [
        "medium_data['title'] = medium_data['title'].apply(lambda x: x.replace(u'\\xa0',u' '))\n",
        "medium_data['title'] = medium_data['title'].apply(lambda x: x.replace('\\u200a',' '))\n",
        "medium_data['title']"
      ],
      "metadata": {
        "colab": {
          "base_uri": "https://localhost:8080/"
        },
        "id": "ELW4J2z0-B1Q",
        "outputId": "2bea13e6-00a2-496c-a4b9-9c466c022cf5"
      },
      "execution_count": null,
      "outputs": [
        {
          "output_type": "execute_result",
          "data": {
            "text/plain": [
              "0       Not All Rainbows and Sunshine: The Darker Side...\n",
              "1       Ethics in AI: Potential Root Causes for Biased...\n",
              "2       Python Tuple, The Whole Truth and Only the Tru...\n",
              "3                             Dates and Subqueries in SQL\n",
              "4       Temporal Differences with Python: First Sample...\n",
              "                              ...                        \n",
              "2493    Brian Chesky is an Example of What it Means to...\n",
              "2494                 5 Red Flags of Online Business Gurus\n",
              "2495    Recognizing These Three Realities Can Help Set...\n",
              "2496    “I Remember It Like It Was Just Yesterday…” Re...\n",
              "2497            How to Formulate a Great Nonfiction Theme\n",
              "Name: title, Length: 2498, dtype: object"
            ]
          },
          "metadata": {},
          "execution_count": 28
        }
      ]
    },
    {
      "cell_type": "code",
      "source": [
        "tokenizer = Tokenizer(oov_token='<oov>') # For those words which are not found in word_index\n",
        "tokenizer.fit_on_texts(medium_data['title'])\n",
        "total_words = len(tokenizer.word_index) + 1\n",
        "\n",
        "print(\"Total number of words: \", total_words)\n",
        "print(\"Word: ID\")\n",
        "print(\"------------\")\n",
        "print(\"<oov>: \", tokenizer.word_index['<oov>'])\n",
        "print(\"Strong: \", tokenizer.word_index['strong'])\n",
        "print(\"And: \", tokenizer.word_index['and'])\n",
        "print(\"Consumption: \", tokenizer.word_index['consumption'])"
      ],
      "metadata": {
        "colab": {
          "base_uri": "https://localhost:8080/"
        },
        "id": "iRq6VmUr-B34",
        "outputId": "82f01f4f-1a24-4025-f880-fea1b21748e3"
      },
      "execution_count": null,
      "outputs": [
        {
          "output_type": "stream",
          "name": "stdout",
          "text": [
            "Total number of words:  3801\n",
            "Word: ID\n",
            "------------\n",
            "<oov>:  1\n",
            "Strong:  5\n",
            "And:  10\n",
            "Consumption:  1385\n"
          ]
        }
      ]
    },
    {
      "cell_type": "code",
      "source": [
        "input_sequences = []\n",
        "for line in medium_data['title']:\n",
        "    token_list = tokenizer.texts_to_sequences([line])[0]\n",
        "    #print(token_list)\n",
        "\n",
        "    for i in range(1, len(token_list)):\n",
        "        n_gram_sequence = token_list[:i+1]\n",
        "        input_sequences.append(n_gram_sequence)\n",
        "\n",
        "# print(input_sequences)\n",
        "print(\"Total input sequences: \", len(input_sequences))"
      ],
      "metadata": {
        "colab": {
          "base_uri": "https://localhost:8080/"
        },
        "id": "mbStOyZp-B6Y",
        "outputId": "67e310d6-7c29-4dbb-d55a-3d1b210598aa"
      },
      "execution_count": null,
      "outputs": [
        {
          "output_type": "stream",
          "name": "stdout",
          "text": [
            "Total input sequences:  21521\n"
          ]
        }
      ]
    },
    {
      "cell_type": "code",
      "source": [
        "# pad sequences\n",
        "max_sequence_len = max([len(x) for x in input_sequences])\n",
        "input_sequences = np.array(pad_sequences(input_sequences, maxlen=max_sequence_len, padding='pre'))\n",
        "input_sequences[1]"
      ],
      "metadata": {
        "colab": {
          "base_uri": "https://localhost:8080/"
        },
        "id": "9EWUeaup-8GN",
        "outputId": "9a4e23c7-15fe-410f-b40e-8f0b9517000e"
      },
      "execution_count": null,
      "outputs": [
        {
          "output_type": "execute_result",
          "data": {
            "text/plain": [
              "array([   0,    0,    0,    0,    0,    0,    0,    0,    0,    0,    0,\n",
              "          0,    0,    0,    0,    0,    0,    0,    0,    0,    0,    0,\n",
              "          0,    0,    0,    0,    0,    0,    0,    0,    0,    0,    0,\n",
              "          0,    0,    0,    0,    0,    0,   67,   97, 1336], dtype=int32)"
            ]
          },
          "metadata": {},
          "execution_count": 31
        }
      ]
    },
    {
      "cell_type": "code",
      "source": [
        "# create features and label\n",
        "xs, labels = input_sequences[:,:-1],input_sequences[:,-1]\n",
        "ys = tf.keras.utils.to_categorical(labels, num_classes=total_words)"
      ],
      "metadata": {
        "id": "9kFiBLBY-8JK"
      },
      "execution_count": null,
      "outputs": []
    },
    {
      "cell_type": "code",
      "source": [
        "print(xs[5])\n",
        "print(labels[5])\n",
        "print(ys[5][14])"
      ],
      "metadata": {
        "colab": {
          "base_uri": "https://localhost:8080/"
        },
        "id": "OVeC_AgX-8Lz",
        "outputId": "4de95fbd-8959-45d7-eef3-5951f40069d1"
      },
      "execution_count": null,
      "outputs": [
        {
          "output_type": "stream",
          "name": "stdout",
          "text": [
            "[   0    0    0    0    0    0    0    0    0    0    0    0    0    0\n",
            "    0    0    0    0    0    0    0    0    0    0    0    0    0    0\n",
            "    0    0    0    0    0    0    0   67   97 1336   10 1337    3]\n",
            "1338\n",
            "0.0\n"
          ]
        }
      ]
    },
    {
      "cell_type": "code",
      "source": [
        "model = Sequential()\n",
        "model.add(Embedding(total_words, 100, input_length=max_sequence_len-1))\n",
        "model.add(Bidirectional(LSTM(150)))\n",
        "model.add(Dense(total_words, activation='softmax'))\n",
        "adam = Adam(lr=0.01)\n",
        "model.compile(loss='categorical_crossentropy', optimizer=adam, metrics=['accuracy'])\n",
        "history = model.fit(xs, ys, epochs=50, verbose=1)\n",
        "#print model.summary()\n",
        "print(model)"
      ],
      "metadata": {
        "colab": {
          "base_uri": "https://localhost:8080/"
        },
        "id": "WjQyKLFh_ITz",
        "outputId": "f68fdee9-f8cc-49f6-b8df-bbe46cb22a61"
      },
      "execution_count": null,
      "outputs": [
        {
          "output_type": "stream",
          "name": "stderr",
          "text": [
            "WARNING:absl:`lr` is deprecated in Keras optimizer, please use `learning_rate` or use the legacy optimizer, e.g.,tf.keras.optimizers.legacy.Adam.\n"
          ]
        },
        {
          "output_type": "stream",
          "name": "stdout",
          "text": [
            "Epoch 1/50\n",
            "673/673 [==============================] - 18s 21ms/step - loss: 6.8272 - accuracy: 0.0551\n",
            "Epoch 2/50\n",
            "673/673 [==============================] - 7s 11ms/step - loss: 6.0801 - accuracy: 0.1056\n",
            "Epoch 3/50\n",
            "673/673 [==============================] - 7s 10ms/step - loss: 5.5535 - accuracy: 0.1339\n",
            "Epoch 4/50\n",
            "673/673 [==============================] - 7s 10ms/step - loss: 5.0024 - accuracy: 0.1668\n",
            "Epoch 5/50\n",
            "673/673 [==============================] - 6s 9ms/step - loss: 4.4527 - accuracy: 0.2091\n",
            "Epoch 6/50\n",
            "673/673 [==============================] - 7s 10ms/step - loss: 3.9350 - accuracy: 0.2715\n",
            "Epoch 7/50\n",
            "673/673 [==============================] - 6s 9ms/step - loss: 3.4576 - accuracy: 0.3439\n",
            "Epoch 8/50\n",
            "673/673 [==============================] - 7s 10ms/step - loss: 3.0263 - accuracy: 0.4181\n",
            "Epoch 9/50\n",
            "673/673 [==============================] - 6s 9ms/step - loss: 2.6418 - accuracy: 0.4901\n",
            "Epoch 10/50\n",
            "673/673 [==============================] - 7s 10ms/step - loss: 2.2980 - accuracy: 0.5586\n",
            "Epoch 11/50\n",
            "673/673 [==============================] - 6s 10ms/step - loss: 1.9983 - accuracy: 0.6159\n",
            "Epoch 12/50\n",
            "673/673 [==============================] - 7s 10ms/step - loss: 1.7392 - accuracy: 0.6702\n",
            "Epoch 13/50\n",
            "673/673 [==============================] - 6s 9ms/step - loss: 1.5131 - accuracy: 0.7149\n",
            "Epoch 14/50\n",
            "673/673 [==============================] - 6s 9ms/step - loss: 1.3214 - accuracy: 0.7523\n",
            "Epoch 15/50\n",
            "673/673 [==============================] - 7s 10ms/step - loss: 1.1583 - accuracy: 0.7832\n",
            "Epoch 16/50\n",
            "673/673 [==============================] - 6s 9ms/step - loss: 1.0165 - accuracy: 0.8114\n",
            "Epoch 17/50\n",
            "673/673 [==============================] - 7s 10ms/step - loss: 0.9001 - accuracy: 0.8309\n",
            "Epoch 18/50\n",
            "673/673 [==============================] - 6s 9ms/step - loss: 0.8010 - accuracy: 0.8497\n",
            "Epoch 19/50\n",
            "673/673 [==============================] - 7s 10ms/step - loss: 0.7176 - accuracy: 0.8643\n",
            "Epoch 20/50\n",
            "673/673 [==============================] - 6s 9ms/step - loss: 0.6492 - accuracy: 0.8722\n",
            "Epoch 21/50\n",
            "673/673 [==============================] - 7s 10ms/step - loss: 0.5899 - accuracy: 0.8827\n",
            "Epoch 22/50\n",
            "673/673 [==============================] - 6s 9ms/step - loss: 0.5450 - accuracy: 0.8889\n",
            "Epoch 23/50\n",
            "673/673 [==============================] - 7s 11ms/step - loss: 0.5036 - accuracy: 0.8943\n",
            "Epoch 24/50\n",
            "673/673 [==============================] - 6s 9ms/step - loss: 0.4726 - accuracy: 0.8990\n",
            "Epoch 25/50\n",
            "673/673 [==============================] - 7s 10ms/step - loss: 0.4462 - accuracy: 0.9003\n",
            "Epoch 26/50\n",
            "673/673 [==============================] - 6s 9ms/step - loss: 0.4274 - accuracy: 0.9019\n",
            "Epoch 27/50\n",
            "673/673 [==============================] - 7s 10ms/step - loss: 0.4124 - accuracy: 0.9024\n",
            "Epoch 28/50\n",
            "673/673 [==============================] - 6s 9ms/step - loss: 0.3977 - accuracy: 0.9030\n",
            "Epoch 29/50\n",
            "673/673 [==============================] - 7s 10ms/step - loss: 0.3865 - accuracy: 0.9031\n",
            "Epoch 30/50\n",
            "673/673 [==============================] - 7s 10ms/step - loss: 0.3787 - accuracy: 0.9027\n",
            "Epoch 31/50\n",
            "673/673 [==============================] - 6s 9ms/step - loss: 0.3704 - accuracy: 0.9054\n",
            "Epoch 32/50\n",
            "673/673 [==============================] - 7s 10ms/step - loss: 0.3624 - accuracy: 0.9052\n",
            "Epoch 33/50\n",
            "673/673 [==============================] - 6s 9ms/step - loss: 0.3587 - accuracy: 0.9041\n",
            "Epoch 34/50\n",
            "673/673 [==============================] - 7s 10ms/step - loss: 0.3543 - accuracy: 0.9049\n",
            "Epoch 35/50\n",
            "673/673 [==============================] - 6s 9ms/step - loss: 0.3507 - accuracy: 0.9034\n",
            "Epoch 36/50\n",
            "673/673 [==============================] - 7s 10ms/step - loss: 0.3489 - accuracy: 0.9042\n",
            "Epoch 37/50\n",
            "673/673 [==============================] - 6s 9ms/step - loss: 0.3449 - accuracy: 0.9036\n",
            "Epoch 38/50\n",
            "673/673 [==============================] - 7s 10ms/step - loss: 0.3413 - accuracy: 0.9047\n",
            "Epoch 39/50\n",
            "673/673 [==============================] - 6s 9ms/step - loss: 0.3407 - accuracy: 0.9029\n",
            "Epoch 40/50\n",
            "673/673 [==============================] - 7s 10ms/step - loss: 0.3384 - accuracy: 0.9033\n",
            "Epoch 41/50\n",
            "673/673 [==============================] - 6s 9ms/step - loss: 0.3361 - accuracy: 0.9031\n",
            "Epoch 42/50\n",
            "673/673 [==============================] - 6s 10ms/step - loss: 0.3344 - accuracy: 0.9033\n",
            "Epoch 43/50\n",
            "673/673 [==============================] - 6s 9ms/step - loss: 0.3323 - accuracy: 0.9035\n",
            "Epoch 44/50\n",
            "673/673 [==============================] - 6s 9ms/step - loss: 0.3317 - accuracy: 0.9041\n",
            "Epoch 45/50\n",
            "673/673 [==============================] - 7s 10ms/step - loss: 0.3298 - accuracy: 0.9038\n",
            "Epoch 46/50\n",
            "673/673 [==============================] - 6s 9ms/step - loss: 0.3336 - accuracy: 0.9040\n",
            "Epoch 47/50\n",
            "673/673 [==============================] - 7s 10ms/step - loss: 0.3338 - accuracy: 0.9027\n",
            "Epoch 48/50\n",
            "673/673 [==============================] - 6s 9ms/step - loss: 0.3286 - accuracy: 0.9039\n",
            "Epoch 49/50\n",
            "673/673 [==============================] - 7s 10ms/step - loss: 0.3256 - accuracy: 0.9041\n",
            "Epoch 50/50\n",
            "673/673 [==============================] - 6s 9ms/step - loss: 0.3249 - accuracy: 0.9044\n",
            "<keras.src.engine.sequential.Sequential object at 0x7bb248e6b9d0>\n"
          ]
        }
      ]
    },
    {
      "cell_type": "code",
      "source": [
        "import matplotlib.pyplot as plt\n",
        "\n",
        "\n",
        "def plot_graphs(history, string):\n",
        "    plt.plot(history.history[string])\n",
        "    plt.xlabel(\"Epochs\")\n",
        "    plt.ylabel(string)\n",
        "    plt.show()"
      ],
      "metadata": {
        "id": "-QFochRp_IWq"
      },
      "execution_count": null,
      "outputs": []
    },
    {
      "cell_type": "code",
      "source": [
        "plot_graphs(history, 'accuracy')"
      ],
      "metadata": {
        "colab": {
          "base_uri": "https://localhost:8080/",
          "height": 449
        },
        "id": "NOaSdRWtB9O_",
        "outputId": "e631a88a-f73c-4137-ff17-1b76d8a64770"
      },
      "execution_count": null,
      "outputs": [
        {
          "output_type": "display_data",
          "data": {
            "text/plain": [
              "<Figure size 640x480 with 1 Axes>"
            ],
            "image/png": "[encoded data removed]"
          },
          "metadata": {}
        }
      ]
    },
    {
      "cell_type": "code",
      "source": [
        "plot_graphs(history, 'loss')"
      ],
      "metadata": {
        "colab": {
          "base_uri": "https://localhost:8080/",
          "height": 449
        },
        "id": "33-ynqcGB9SI",
        "outputId": "ede3c183-a98b-4e1e-e1c6-39419ba31c0d"
      },
      "execution_count": null,
      "outputs": [
        {
          "output_type": "display_data",
          "data": {
            "text/plain": [
              "<Figure size 640x480 with 1 Axes>"
            ],
            "image/png": "[encoded data removed]"
          },
          "metadata": {}
        }
      ]
    },
    {
      "cell_type": "code",
      "source": [
        "!pip install tensorflow"
      ],
      "metadata": {
        "colab": {
          "base_uri": "https://localhost:8080/"
        },
        "id": "1jO1fmyZHlG2",
        "outputId": "2b71846d-45b6-4402-efa8-731d400bc56d"
      },
      "execution_count": null,
      "outputs": [
        {
          "output_type": "stream",
          "name": "stdout",
          "text": [
            "Requirement already satisfied: tensorflow in /usr/local/lib/python3.10/dist-packages (2.15.0)\n",
            "Requirement already satisfied: absl-py>=1.0.0 in /usr/local/lib/python3.10/dist-packages (from tensorflow) (1.4.0)\n",
            "Requirement already satisfied: astunparse>=1.6.0 in /usr/local/lib/python3.10/dist-packages (from tensorflow) (1.6.3)\n",
            "Requirement already satisfied: flatbuffers>=23.5.26 in /usr/local/lib/python3.10/dist-packages (from tensorflow) (24.3.7)\n",
            "Requirement already satisfied: gast!=0.5.0,!=0.5.1,!=0.5.2,>=0.2.1 in /usr/local/lib/python3.10/dist-packages (from tensorflow) (0.5.4)\n",
            "Requirement already satisfied: google-pasta>=0.1.1 in /usr/local/lib/python3.10/dist-packages (from tensorflow) (0.2.0)\n",
            "Requirement already satisfied: h5py>=2.9.0 in /usr/local/lib/python3.10/dist-packages (from tensorflow) (3.9.0)\n",
            "Requirement already satisfied: libclang>=13.0.0 in /usr/local/lib/python3.10/dist-packages (from tensorflow) (18.1.1)\n",
            "Requirement already satisfied: ml-dtypes~=0.2.0 in /usr/local/lib/python3.10/dist-packages (from tensorflow) (0.2.0)\n",
            "Requirement already satisfied: numpy<2.0.0,>=1.23.5 in /usr/local/lib/python3.10/dist-packages (from tensorflow) (1.25.2)\n",
            "Requirement already satisfied: opt-einsum>=2.3.2 in /usr/local/lib/python3.10/dist-packages (from tensorflow) (3.3.0)\n",
            "Requirement already satisfied: packaging in /usr/local/lib/python3.10/dist-packages (from tensorflow) (24.0)\n",
            "Requirement already satisfied: protobuf!=4.21.0,!=4.21.1,!=4.21.2,!=4.21.3,!=4.21.4,!=4.21.5,<5.0.0dev,>=3.20.3 in /usr/local/lib/python3.10/dist-packages (from tensorflow) (3.20.3)\n",
            "Requirement already satisfied: setuptools in /usr/local/lib/python3.10/dist-packages (from tensorflow) (67.7.2)\n",
            "Requirement already satisfied: six>=1.12.0 in /usr/local/lib/python3.10/dist-packages (from tensorflow) (1.16.0)\n",
            "Requirement already satisfied: termcolor>=1.1.0 in /usr/local/lib/python3.10/dist-packages (from tensorflow) (2.4.0)\n",
            "Requirement already satisfied: typing-extensions>=3.6.6 in /usr/local/lib/python3.10/dist-packages (from tensorflow) (4.10.0)\n",
            "Requirement already satisfied: wrapt<1.15,>=1.11.0 in /usr/local/lib/python3.10/dist-packages (from tensorflow) (1.14.1)\n",
            "Requirement already satisfied: tensorflow-io-gcs-filesystem>=0.23.1 in /usr/local/lib/python3.10/dist-packages (from tensorflow) (0.36.0)\n",
            "Requirement already satisfied: grpcio<2.0,>=1.24.3 in /usr/local/lib/python3.10/dist-packages (from tensorflow) (1.62.1)\n",
            "Requirement already satisfied: tensorboard<2.16,>=2.15 in /usr/local/lib/python3.10/dist-packages (from tensorflow) (2.15.2)\n",
            "Requirement already satisfied: tensorflow-estimator<2.16,>=2.15.0 in /usr/local/lib/python3.10/dist-packages (from tensorflow) (2.15.0)\n",
            "Requirement already satisfied: keras<2.16,>=2.15.0 in /usr/local/lib/python3.10/dist-packages (from tensorflow) (2.15.0)\n",
            "Requirement already satisfied: wheel<1.0,>=0.23.0 in /usr/local/lib/python3.10/dist-packages (from astunparse>=1.6.0->tensorflow) (0.43.0)\n",
            "Requirement already satisfied: google-auth<3,>=1.6.3 in /usr/local/lib/python3.10/dist-packages (from tensorboard<2.16,>=2.15->tensorflow) (2.27.0)\n",
            "Requirement already satisfied: google-auth-oauthlib<2,>=0.5 in /usr/local/lib/python3.10/dist-packages (from tensorboard<2.16,>=2.15->tensorflow) (1.2.0)\n",
            "Requirement already satisfied: markdown>=2.6.8 in /usr/local/lib/python3.10/dist-packages (from tensorboard<2.16,>=2.15->tensorflow) (3.6)\n",
            "Requirement already satisfied: requests<3,>=2.21.0 in /usr/local/lib/python3.10/dist-packages (from tensorboard<2.16,>=2.15->tensorflow) (2.31.0)\n",
            "Requirement already satisfied: tensorboard-data-server<0.8.0,>=0.7.0 in /usr/local/lib/python3.10/dist-packages (from tensorboard<2.16,>=2.15->tensorflow) (0.7.2)\n",
            "Requirement already satisfied: werkzeug>=1.0.1 in /usr/local/lib/python3.10/dist-packages (from tensorboard<2.16,>=2.15->tensorflow) (3.0.1)\n",
            "Requirement already satisfied: cachetools<6.0,>=2.0.0 in /usr/local/lib/python3.10/dist-packages (from google-auth<3,>=1.6.3->tensorboard<2.16,>=2.15->tensorflow) (5.3.3)\n",
            "Requirement already satisfied: pyasn1-modules>=0.2.1 in /usr/local/lib/python3.10/dist-packages (from google-auth<3,>=1.6.3->tensorboard<2.16,>=2.15->tensorflow) (0.3.0)\n",
            "Requirement already satisfied: rsa<5,>=3.1.4 in /usr/local/lib/python3.10/dist-packages (from google-auth<3,>=1.6.3->tensorboard<2.16,>=2.15->tensorflow) (4.9)\n",
            "Requirement already satisfied: requests-oauthlib>=0.7.0 in /usr/local/lib/python3.10/dist-packages (from google-auth-oauthlib<2,>=0.5->tensorboard<2.16,>=2.15->tensorflow) (1.4.0)\n",
            "Requirement already satisfied: charset-normalizer<4,>=2 in /usr/local/lib/python3.10/dist-packages (from requests<3,>=2.21.0->tensorboard<2.16,>=2.15->tensorflow) (3.3.2)\n",
            "Requirement already satisfied: idna<4,>=2.5 in /usr/local/lib/python3.10/dist-packages (from requests<3,>=2.21.0->tensorboard<2.16,>=2.15->tensorflow) (3.6)\n",
            "Requirement already satisfied: urllib3<3,>=1.21.1 in /usr/local/lib/python3.10/dist-packages (from requests<3,>=2.21.0->tensorboard<2.16,>=2.15->tensorflow) (2.0.7)\n",
            "Requirement already satisfied: certifi>=2017.4.17 in /usr/local/lib/python3.10/dist-packages (from requests<3,>=2.21.0->tensorboard<2.16,>=2.15->tensorflow) (2024.2.2)\n",
            "Requirement already satisfied: MarkupSafe>=2.1.1 in /usr/local/lib/python3.10/dist-packages (from werkzeug>=1.0.1->tensorboard<2.16,>=2.15->tensorflow) (2.1.5)\n",
            "Requirement already satisfied: pyasn1<0.6.0,>=0.4.6 in /usr/local/lib/python3.10/dist-packages (from pyasn1-modules>=0.2.1->google-auth<3,>=1.6.3->tensorboard<2.16,>=2.15->tensorflow) (0.5.1)\n",
            "Requirement already satisfied: oauthlib>=3.0.0 in /usr/local/lib/python3.10/dist-packages (from requests-oauthlib>=0.7.0->google-auth-oauthlib<2,>=0.5->tensorboard<2.16,>=2.15->tensorflow) (3.2.2)\n"
          ]
        }
      ]
    },
    {
      "cell_type": "code",
      "source": [
        "from tensorflow.keras.model import predict_classes"
      ],
      "metadata": {
        "colab": {
          "base_uri": "https://localhost:8080/",
          "height": 314
        },
        "id": "I2nFU9LCHsM-",
        "outputId": "87d6080b-6742-4e8a-9aa8-30ed3a91e46d"
      },
      "execution_count": null,
      "outputs": [
        {
          "output_type": "error",
          "ename": "ModuleNotFoundError",
          "evalue": "No module named 'tensorflow.keras.model'",
          "traceback": [
            "\u001b[0;31m---------------------------------------------------------------------------\u001b[0m",
            "\u001b[0;31mModuleNotFoundError\u001b[0m                       Traceback (most recent call last)",
            "\u001b[0;32m<ipython-input-50-7be2b3d144db>\u001b[0m in \u001b[0;36m<cell line: 1>\u001b[0;34m()\u001b[0m\n\u001b[0;32m----> 1\u001b[0;31m \u001b[0;32mfrom\u001b[0m \u001b[0mtensorflow\u001b[0m\u001b[0;34m.\u001b[0m\u001b[0mkeras\u001b[0m\u001b[0;34m.\u001b[0m\u001b[0mmodel\u001b[0m \u001b[0;32mimport\u001b[0m \u001b[0mpredict_classes\u001b[0m\u001b[0;34m\u001b[0m\u001b[0;34m\u001b[0m\u001b[0m\n\u001b[0m",
            "\u001b[0;31mModuleNotFoundError\u001b[0m: No module named 'tensorflow.keras.model'",
            "",
            "\u001b[0;31m---------------------------------------------------------------------------\u001b[0;32m\nNOTE: If your import is failing due to a missing package, you can\nmanually install dependencies using either !pip or !apt.\n\nTo view examples of installing some common dependencies, click the\n\"Open Examples\" button below.\n\u001b[0;31m---------------------------------------------------------------------------\u001b[0m\n"
          ],
          "errorDetails": {
            "actions": [
              {
                "action": "open_url",
                "actionText": "Open Examples",
                "url": "/notebooks/snippets/importing_libraries.ipynb"
              }
            ]
          }
        }
      ]
    },
    {
      "cell_type": "code",
      "source": [
        "seed_text = \"Temporal Differences\"\n",
        "next_words = 2\n",
        "\n",
        "for _ in range(next_words):\n",
        "    token_list = tokenizer.texts_to_sequences([seed_text])[0]\n",
        "    token_list = pad_sequences([token_list], maxlen=max_sequence_len-1, padding='pre')\n",
        "    predicted = np.argmax(model.predict(token_list), axis=-1)\n",
        "    output_word = \"\"\n",
        "    for word, index in tokenizer.word_index.items():\n",
        "        if index == predicted:\n",
        "            output_word = word\n",
        "            break\n",
        "    seed_text += \" \" + output_word\n",
        "print(seed_text)"
      ],
      "metadata": {
        "colab": {
          "base_uri": "https://localhost:8080/"
        },
        "id": "g_ie4KCaB9Ug",
        "outputId": "458d9398-9e23-4a79-ae59-c479fe21130c"
      },
      "execution_count": null,
      "outputs": [
        {
          "output_type": "stream",
          "name": "stdout",
          "text": [
            "1/1 [==============================] - 0s 19ms/step\n",
            "1/1 [==============================] - 0s 18ms/step\n",
            "Temporal Differences with python\n"
          ]
        }
      ]
    }
  ]
}